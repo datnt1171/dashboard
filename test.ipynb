{
 "cells": [
  {
   "cell_type": "code",
   "execution_count": 1,
   "metadata": {},
   "outputs": [],
   "source": [
    "import psycopg2\n",
    "import pandas as pd\n",
    "import numpy as np\n",
    "import os\n",
    "from dotenv import load_dotenv\n",
    "#import constants\n",
    "from datetime import date, datetime, timedelta\n",
    "load_dotenv()\n",
    "pd.options.mode.chained_assignment = None\n",
    "\n",
    "from dateutil.relativedelta import relativedelta\n",
    "database_name = os.getenv('WAREHOUSE_NAME')\n",
    "database_user = os.getenv('WAREHOUSE_USER')\n",
    "database_password = os.getenv('WAREHOUSE_PASSWORD')\n",
    "database_host = os.getenv('WAREHOUSE_HOST')\n",
    "database_port = os.getenv('WAREHOUSE_PORT')"
   ]
  },
  {
   "cell_type": "code",
   "execution_count": 2,
   "metadata": {},
   "outputs": [],
   "source": [
    "import os\n",
    "from utils.login_handler import restricted_page\n",
    "from dotenv import load_dotenv\n",
    "load_dotenv()\n",
    "import json\n"
   ]
  },
  {
   "cell_type": "code",
   "execution_count": 2,
   "metadata": {},
   "outputs": [],
   "source": [
    "from user import get_users"
   ]
  },
  {
   "cell_type": "code",
   "execution_count": 5,
   "metadata": {},
   "outputs": [],
   "source": [
    "df_user = get_users()"
   ]
  },
  {
   "cell_type": "code",
   "execution_count": null,
   "metadata": {},
   "outputs": [
    {
     "data": {
      "text/html": [
       "<div>\n",
       "<style scoped>\n",
       "    .dataframe tbody tr th:only-of-type {\n",
       "        vertical-align: middle;\n",
       "    }\n",
       "\n",
       "    .dataframe tbody tr th {\n",
       "        vertical-align: top;\n",
       "    }\n",
       "\n",
       "    .dataframe thead th {\n",
       "        text-align: right;\n",
       "    }\n",
       "</style>\n",
       "<table border=\"1\" class=\"dataframe\">\n",
       "  <thead>\n",
       "    <tr style=\"text-align: right;\">\n",
       "      <th></th>\n",
       "      <th>username</th>\n",
       "      <th>password</th>\n",
       "      <th>role</th>\n",
       "      <th>permissions</th>\n",
       "    </tr>\n",
       "  </thead>\n",
       "  <tbody>\n",
       "    <tr>\n",
       "      <th>0</th>\n",
       "      <td>dat</td>\n",
       "      <td>123</td>\n",
       "      <td>admin</td>\n",
       "      <td>[wh_overall, wh_customer, wh_product, wh_plan,...</td>\n",
       "    </tr>\n",
       "    <tr>\n",
       "      <th>1</th>\n",
       "      <td>stanley</td>\n",
       "      <td>123</td>\n",
       "      <td>admin</td>\n",
       "      <td>[wh_overall, wh_customer, wh_product, wh_plan,...</td>\n",
       "    </tr>\n",
       "    <tr>\n",
       "      <th>2</th>\n",
       "      <td>dungtq</td>\n",
       "      <td>123</td>\n",
       "      <td>admin</td>\n",
       "      <td>[wh_overall, wh_customer, wh_product, wh_plan,...</td>\n",
       "    </tr>\n",
       "    <tr>\n",
       "      <th>3</th>\n",
       "      <td>KHOBA</td>\n",
       "      <td>123</td>\n",
       "      <td>warehouse</td>\n",
       "      <td>[wh_overall, wh_customer, wh_product, wh_plan,...</td>\n",
       "    </tr>\n",
       "    <tr>\n",
       "      <th>4</th>\n",
       "      <td>color_mixing</td>\n",
       "      <td>123</td>\n",
       "      <td>color_mixing</td>\n",
       "      <td>[cm_daily, cm_weekly, cm_qc]</td>\n",
       "    </tr>\n",
       "    <tr>\n",
       "      <th>5</th>\n",
       "      <td>sales</td>\n",
       "      <td>123</td>\n",
       "      <td>sales</td>\n",
       "      <td>[s_daily, s_weekly]</td>\n",
       "    </tr>\n",
       "    <tr>\n",
       "      <th>6</th>\n",
       "      <td>production</td>\n",
       "      <td>123</td>\n",
       "      <td>production</td>\n",
       "      <td>[prod_daily, prod_weekly]</td>\n",
       "    </tr>\n",
       "    <tr>\n",
       "      <th>7</th>\n",
       "      <td>rd</td>\n",
       "      <td>123</td>\n",
       "      <td>rd</td>\n",
       "      <td>[rd_daily, rd_weekly]</td>\n",
       "    </tr>\n",
       "  </tbody>\n",
       "</table>\n",
       "</div>"
      ],
      "text/plain": [
       "       username password          role  \\\n",
       "0           dat      123         admin   \n",
       "1       stanley      123         admin   \n",
       "2        dungtq      123         admin   \n",
       "3         KHOBA      123     warehouse   \n",
       "4  color_mixing      123  color_mixing   \n",
       "5         sales      123         sales   \n",
       "6    production      123    production   \n",
       "7            rd      123            rd   \n",
       "\n",
       "                                         permissions  \n",
       "0  [wh_overall, wh_customer, wh_product, wh_plan,...  \n",
       "1  [wh_overall, wh_customer, wh_product, wh_plan,...  \n",
       "2  [wh_overall, wh_customer, wh_product, wh_plan,...  \n",
       "3  [wh_overall, wh_customer, wh_product, wh_plan,...  \n",
       "4                       [cm_daily, cm_weekly, cm_qc]  \n",
       "5                                [s_daily, s_weekly]  \n",
       "6                          [prod_daily, prod_weekly]  \n",
       "7                              [rd_daily, rd_weekly]  "
      ]
     },
     "execution_count": 11,
     "metadata": {},
     "output_type": "execute_result"
    }
   ],
   "source": []
  },
  {
   "cell_type": "code",
   "execution_count": 12,
   "metadata": {},
   "outputs": [],
   "source": [
    "df_user1 = df_user.set_index('username').to_dict(orient=\"index\")"
   ]
  },
  {
   "cell_type": "code",
   "execution_count": null,
   "metadata": {},
   "outputs": [
    {
     "data": {
      "text/plain": [
       "{'password': '123',\n",
       " 'role': 'admin',\n",
       " 'permissions': ['wh_overall',\n",
       "  'wh_customer',\n",
       "  'wh_product',\n",
       "  'wh_plan',\n",
       "  'wh_compare',\n",
       "  'wh_conclusion',\n",
       "  'cm_daily',\n",
       "  'cm_weekly',\n",
       "  'cm_qc']}"
      ]
     },
     "execution_count": 13,
     "metadata": {},
     "output_type": "execute_result"
    }
   ],
   "source": []
  },
  {
   "cell_type": "code",
   "execution_count": 5,
   "metadata": {},
   "outputs": [],
   "source": [
    "from utils.login_handler import disable_page"
   ]
  },
  {
   "cell_type": "code",
   "execution_count": 8,
   "metadata": {},
   "outputs": [],
   "source": [
    "a = disable_page('abc', permissions)"
   ]
  },
  {
   "cell_type": "code",
   "execution_count": 4,
   "metadata": {},
   "outputs": [],
   "source": [
    "import user"
   ]
  },
  {
   "cell_type": "code",
   "execution_count": 5,
   "metadata": {},
   "outputs": [],
   "source": [
    "df_user = user.df_user"
   ]
  },
  {
   "cell_type": "code",
   "execution_count": 6,
   "metadata": {},
   "outputs": [
    {
     "data": {
      "text/html": [
       "<div>\n",
       "<style scoped>\n",
       "    .dataframe tbody tr th:only-of-type {\n",
       "        vertical-align: middle;\n",
       "    }\n",
       "\n",
       "    .dataframe tbody tr th {\n",
       "        vertical-align: top;\n",
       "    }\n",
       "\n",
       "    .dataframe thead th {\n",
       "        text-align: right;\n",
       "    }\n",
       "</style>\n",
       "<table border=\"1\" class=\"dataframe\">\n",
       "  <thead>\n",
       "    <tr style=\"text-align: right;\">\n",
       "      <th></th>\n",
       "      <th>username</th>\n",
       "      <th>password</th>\n",
       "      <th>role</th>\n",
       "      <th>permissions</th>\n",
       "    </tr>\n",
       "  </thead>\n",
       "  <tbody>\n",
       "    <tr>\n",
       "      <th>0</th>\n",
       "      <td>dat</td>\n",
       "      <td>123</td>\n",
       "      <td>admin</td>\n",
       "      <td>[wh_overall, wh_customer, wh_product, wh_plan,...</td>\n",
       "    </tr>\n",
       "    <tr>\n",
       "      <th>1</th>\n",
       "      <td>stanley</td>\n",
       "      <td>123</td>\n",
       "      <td>admin</td>\n",
       "      <td>[wh_overall, wh_customer, wh_product, wh_plan,...</td>\n",
       "    </tr>\n",
       "    <tr>\n",
       "      <th>2</th>\n",
       "      <td>dungtd</td>\n",
       "      <td>123</td>\n",
       "      <td>admin</td>\n",
       "      <td>[wh_overall, wh_customer, wh_product, wh_plan,...</td>\n",
       "    </tr>\n",
       "    <tr>\n",
       "      <th>3</th>\n",
       "      <td>KHOBA</td>\n",
       "      <td>123</td>\n",
       "      <td>warehouse</td>\n",
       "      <td>[wh_overall, wh_customer, wh_product, wh_plan,...</td>\n",
       "    </tr>\n",
       "    <tr>\n",
       "      <th>4</th>\n",
       "      <td>color_mixing</td>\n",
       "      <td>123</td>\n",
       "      <td>color_mixing</td>\n",
       "      <td>[cm_daily, cm_weekly, cm_qc]</td>\n",
       "    </tr>\n",
       "    <tr>\n",
       "      <th>5</th>\n",
       "      <td>sales</td>\n",
       "      <td>123</td>\n",
       "      <td>sales</td>\n",
       "      <td>[]</td>\n",
       "    </tr>\n",
       "    <tr>\n",
       "      <th>6</th>\n",
       "      <td>production</td>\n",
       "      <td>123</td>\n",
       "      <td>production</td>\n",
       "      <td>[]</td>\n",
       "    </tr>\n",
       "    <tr>\n",
       "      <th>7</th>\n",
       "      <td>rd</td>\n",
       "      <td>123</td>\n",
       "      <td>rd</td>\n",
       "      <td>[]</td>\n",
       "    </tr>\n",
       "  </tbody>\n",
       "</table>\n",
       "</div>"
      ],
      "text/plain": [
       "       username  password          role  \\\n",
       "0           dat       123         admin   \n",
       "1       stanley       123         admin   \n",
       "2        dungtd       123         admin   \n",
       "3         KHOBA       123     warehouse   \n",
       "4  color_mixing       123  color_mixing   \n",
       "5         sales       123         sales   \n",
       "6    production       123    production   \n",
       "7            rd       123            rd   \n",
       "\n",
       "                                         permissions  \n",
       "0  [wh_overall, wh_customer, wh_product, wh_plan,...  \n",
       "1  [wh_overall, wh_customer, wh_product, wh_plan,...  \n",
       "2  [wh_overall, wh_customer, wh_product, wh_plan,...  \n",
       "3  [wh_overall, wh_customer, wh_product, wh_plan,...  \n",
       "4                       [cm_daily, cm_weekly, cm_qc]  \n",
       "5                                                 []  \n",
       "6                                                 []  \n",
       "7                                                 []  "
      ]
     },
     "execution_count": 6,
     "metadata": {},
     "output_type": "execute_result"
    }
   ],
   "source": [
    "df_user"
   ]
  }
 ],
 "metadata": {
  "kernelspec": {
   "display_name": ".venv",
   "language": "python",
   "name": "python3"
  },
  "language_info": {
   "codemirror_mode": {
    "name": "ipython",
    "version": 3
   },
   "file_extension": ".py",
   "mimetype": "text/x-python",
   "name": "python",
   "nbconvert_exporter": "python",
   "pygments_lexer": "ipython3",
   "version": "3.12.5"
  }
 },
 "nbformat": 4,
 "nbformat_minor": 2
}
