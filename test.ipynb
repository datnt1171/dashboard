{
 "cells": [
  {
   "cell_type": "code",
   "execution_count": 1,
   "metadata": {},
   "outputs": [],
   "source": [
    "import psycopg2\n",
    "import pandas as pd\n",
    "import numpy as np\n",
    "import os\n",
    "from dotenv import load_dotenv\n",
    "#import constants\n",
    "from datetime import date, datetime, timedelta\n",
    "load_dotenv()\n",
    "pd.options.mode.chained_assignment = None\n",
    "\n",
    "from dateutil.relativedelta import relativedelta\n"
   ]
  },
  {
   "cell_type": "code",
   "execution_count": 4,
   "metadata": {},
   "outputs": [],
   "source": [
    "date_col = ['Ngày ĐĐH','Ngày CT','Ngày dự tính giao hàng ban đầu','Ngày dự định giao hàng']"
   ]
  },
  {
   "cell_type": "code",
   "execution_count": 6,
   "metadata": {},
   "outputs": [],
   "source": [
    "for col in date_col:\n",
    "    df[col] = pd.to_datetime(df[col], dayfirst=True)"
   ]
  },
  {
   "cell_type": "code",
   "execution_count": 10,
   "metadata": {},
   "outputs": [],
   "source": [
    "df1 = df[df['Ngày dự định giao hàng']>='2025-04-20']"
   ]
  },
  {
   "cell_type": "code",
   "execution_count": 11,
   "metadata": {},
   "outputs": [],
   "source": [
    "df_grouped = df1.groupby('KH Tên gọi tắt').agg({'SL đơn đặt':'sum'}).reset_index()"
   ]
  },
  {
   "cell_type": "code",
   "execution_count": null,
   "metadata": {},
   "outputs": [],
   "source": [
    "df_grouped.sort_values(by='SL đơn đặt', ascending=False)"
   ]
  },
  {
   "cell_type": "code",
   "execution_count": null,
   "metadata": {},
   "outputs": [],
   "source": [
    "import pytz\n",
    "a = pytz.all_timezones\n",
    "for i in a:\n",
    "    if 'Asia' in i:\n",
    "        print(i)"
   ]
  },
  {
   "cell_type": "code",
   "execution_count": 2,
   "metadata": {},
   "outputs": [],
   "source": [
    "from utils.db import Database"
   ]
  },
  {
   "cell_type": "code",
   "execution_count": 3,
   "metadata": {},
   "outputs": [],
   "source": [
    "Database.initialize(\n",
    "    database=os.getenv('WAREHOUSE_NAME'),\n",
    "    user=os.getenv('WAREHOUSE_USER'),\n",
    "    password=os.getenv('WAREHOUSE_PASSWORD'),\n",
    "    host=os.getenv('WAREHOUSE_HOST'),\n",
    "    port=os.getenv('WAREHOUSE_PORT'),\n",
    "    minconn=1,\n",
    "    maxconn=20\n",
    ")"
   ]
  },
  {
   "cell_type": "code",
   "execution_count": 4,
   "metadata": {},
   "outputs": [],
   "source": [
    "conn = Database.get_connection()"
   ]
  },
  {
   "cell_type": "code",
   "execution_count": 5,
   "metadata": {},
   "outputs": [],
   "source": [
    "cur = conn.cursor()"
   ]
  },
  {
   "cell_type": "code",
   "execution_count": 11,
   "metadata": {},
   "outputs": [],
   "source": [
    "factory_name='大森 TIM BER'"
   ]
  },
  {
   "cell_type": "code",
   "execution_count": 12,
   "metadata": {},
   "outputs": [],
   "source": [
    "selected_year = 2025"
   ]
  },
  {
   "cell_type": "code",
   "execution_count": 13,
   "metadata": {},
   "outputs": [],
   "source": [
    "from utils.query.wh.extract import get_mtd_by_month, get_factory_code"
   ]
  },
  {
   "cell_type": "code",
   "execution_count": 14,
   "metadata": {},
   "outputs": [],
   "source": [
    "factory_code = get_factory_code(factory_name)\n",
    "# Get sales\n",
    "df_sales = get_mtd_by_month(selected_year, 1, 31, factory_code, \"fact_sales\", \"sales_quantity\", \"sales_date\")\n",
    "df_sales.columns = ['month','sales_quantity','sales_quantity_timber']\n",
    "df_sales.drop(columns = ['sales_quantity'], inplace=True)\n"
   ]
  },
  {
   "cell_type": "code",
   "execution_count": 15,
   "metadata": {},
   "outputs": [
    {
     "data": {
      "text/html": [
       "<div>\n",
       "<style scoped>\n",
       "    .dataframe tbody tr th:only-of-type {\n",
       "        vertical-align: middle;\n",
       "    }\n",
       "\n",
       "    .dataframe tbody tr th {\n",
       "        vertical-align: top;\n",
       "    }\n",
       "\n",
       "    .dataframe thead th {\n",
       "        text-align: right;\n",
       "    }\n",
       "</style>\n",
       "<table border=\"1\" class=\"dataframe\">\n",
       "  <thead>\n",
       "    <tr style=\"text-align: right;\">\n",
       "      <th></th>\n",
       "      <th>month</th>\n",
       "      <th>sales_quantity_timber</th>\n",
       "    </tr>\n",
       "  </thead>\n",
       "  <tbody>\n",
       "    <tr>\n",
       "      <th>0</th>\n",
       "      <td>1</td>\n",
       "      <td>25590.0</td>\n",
       "    </tr>\n",
       "  </tbody>\n",
       "</table>\n",
       "</div>"
      ],
      "text/plain": [
       "   month  sales_quantity_timber\n",
       "0      1                25590.0"
      ]
     },
     "execution_count": 15,
     "metadata": {},
     "output_type": "execute_result"
    }
   ],
   "source": [
    "df_sales"
   ]
  },
  {
   "cell_type": "code",
   "execution_count": 16,
   "metadata": {},
   "outputs": [],
   "source": [
    "\n",
    "# Get planned deliveries\n",
    "df_plan  = get_mtd_by_month(selected_year, 1, 31, factory_code, \"fact_order\", \"order_quantity\", \"estimated_delivery_date\")\n",
    "df_plan.columns = ['month','plan_quantity','plan_quantity_timber']\n",
    "df_plan.drop(columns = ['plan_quantity'], inplace=True)\n"
   ]
  },
  {
   "cell_type": "code",
   "execution_count": 17,
   "metadata": {},
   "outputs": [
    {
     "data": {
      "text/html": [
       "<div>\n",
       "<style scoped>\n",
       "    .dataframe tbody tr th:only-of-type {\n",
       "        vertical-align: middle;\n",
       "    }\n",
       "\n",
       "    .dataframe tbody tr th {\n",
       "        vertical-align: top;\n",
       "    }\n",
       "\n",
       "    .dataframe thead th {\n",
       "        text-align: right;\n",
       "    }\n",
       "</style>\n",
       "<table border=\"1\" class=\"dataframe\">\n",
       "  <thead>\n",
       "    <tr style=\"text-align: right;\">\n",
       "      <th></th>\n",
       "      <th>month</th>\n",
       "      <th>plan_quantity_timber</th>\n",
       "    </tr>\n",
       "  </thead>\n",
       "  <tbody>\n",
       "    <tr>\n",
       "      <th>0</th>\n",
       "      <td>1</td>\n",
       "      <td>40697.0</td>\n",
       "    </tr>\n",
       "    <tr>\n",
       "      <th>1</th>\n",
       "      <td>2</td>\n",
       "      <td>33976.0</td>\n",
       "    </tr>\n",
       "    <tr>\n",
       "      <th>2</th>\n",
       "      <td>9</td>\n",
       "      <td>0.0</td>\n",
       "    </tr>\n",
       "  </tbody>\n",
       "</table>\n",
       "</div>"
      ],
      "text/plain": [
       "   month  plan_quantity_timber\n",
       "0      1               40697.0\n",
       "1      2               33976.0\n",
       "2      9                   0.0"
      ]
     },
     "execution_count": 17,
     "metadata": {},
     "output_type": "execute_result"
    }
   ],
   "source": [
    "df_plan"
   ]
  },
  {
   "cell_type": "code",
   "execution_count": 18,
   "metadata": {},
   "outputs": [],
   "source": [
    "conn = Database.get_connection()\n",
    "cur = conn.cursor()"
   ]
  },
  {
   "cell_type": "code",
   "execution_count": 29,
   "metadata": {},
   "outputs": [],
   "source": [
    "cur.execute(\"\"\"DELETE from fact_order where order_code = '2201-240829022-0006'\"\"\")"
   ]
  },
  {
   "cell_type": "code",
   "execution_count": 30,
   "metadata": {},
   "outputs": [],
   "source": [
    "conn.commit()"
   ]
  },
  {
   "cell_type": "code",
   "execution_count": 27,
   "metadata": {},
   "outputs": [],
   "source": [
    "data = cur.fetchall()\n",
    "column_names = [description[0] for description in cur.description]\n",
    "df = pd.DataFrame(data=data, columns=column_names)"
   ]
  },
  {
   "cell_type": "code",
   "execution_count": 28,
   "metadata": {},
   "outputs": [
    {
     "data": {
      "text/html": [
       "<div>\n",
       "<style scoped>\n",
       "    .dataframe tbody tr th:only-of-type {\n",
       "        vertical-align: middle;\n",
       "    }\n",
       "\n",
       "    .dataframe tbody tr th {\n",
       "        vertical-align: top;\n",
       "    }\n",
       "\n",
       "    .dataframe thead th {\n",
       "        text-align: right;\n",
       "    }\n",
       "</style>\n",
       "<table border=\"1\" class=\"dataframe\">\n",
       "  <thead>\n",
       "    <tr style=\"text-align: right;\">\n",
       "      <th></th>\n",
       "      <th>order_date</th>\n",
       "      <th>order_code</th>\n",
       "      <th>ct_date</th>\n",
       "      <th>factory_code</th>\n",
       "      <th>factory_order_code</th>\n",
       "      <th>tax_type</th>\n",
       "      <th>department</th>\n",
       "      <th>salesman</th>\n",
       "      <th>deposit_rate</th>\n",
       "      <th>payment_registration_code</th>\n",
       "      <th>...</th>\n",
       "      <th>package_order_quantity</th>\n",
       "      <th>delivered_package_order_quantity</th>\n",
       "      <th>unit</th>\n",
       "      <th>package_unit</th>\n",
       "      <th>estimated_delivery_date</th>\n",
       "      <th>original_estimated_delivery_date</th>\n",
       "      <th>pre_ct</th>\n",
       "      <th>finish_code</th>\n",
       "      <th>import_timestamp</th>\n",
       "      <th>import_wh_timestamp</th>\n",
       "    </tr>\n",
       "  </thead>\n",
       "  <tbody>\n",
       "    <tr>\n",
       "      <th>0</th>\n",
       "      <td>2024-08-29</td>\n",
       "      <td>2201-240829022-0006</td>\n",
       "      <td>2024-08-29</td>\n",
       "      <td>31095</td>\n",
       "      <td>DHM-24/08-091</td>\n",
       "      <td>Thuế cộng riêng</td>\n",
       "      <td>業務部 NV</td>\n",
       "      <td>陳國勇</td>\n",
       "      <td>0</td>\n",
       "      <td>2004.0</td>\n",
       "      <td>...</td>\n",
       "      <td>1.0</td>\n",
       "      <td>1.0</td>\n",
       "      <td>kg</td>\n",
       "      <td>T</td>\n",
       "      <td>2025-09-04</td>\n",
       "      <td>2024-08-30</td>\n",
       "      <td>2101-220401022-0099</td>\n",
       "      <td>T? ??ng k?t thuc</td>\n",
       "      <td>2024-12-03 11:30:23.803593</td>\n",
       "      <td>2024-12-03 13:07:25.288145</td>\n",
       "    </tr>\n",
       "  </tbody>\n",
       "</table>\n",
       "<p>1 rows × 28 columns</p>\n",
       "</div>"
      ],
      "text/plain": [
       "   order_date           order_code     ct_date factory_code  \\\n",
       "0  2024-08-29  2201-240829022-0006  2024-08-29        31095   \n",
       "\n",
       "  factory_order_code         tax_type department salesman deposit_rate  \\\n",
       "0      DHM-24/08-091  Thuế cộng riêng     業務部 NV      陳國勇            0   \n",
       "\n",
       "  payment_registration_code  ... package_order_quantity  \\\n",
       "0                    2004.0  ...                    1.0   \n",
       "\n",
       "  delivered_package_order_quantity unit package_unit estimated_delivery_date  \\\n",
       "0                              1.0   kg            T              2025-09-04   \n",
       "\n",
       "  original_estimated_delivery_date               pre_ct       finish_code  \\\n",
       "0                       2024-08-30  2101-220401022-0099  T? ??ng k?t thuc   \n",
       "\n",
       "            import_timestamp        import_wh_timestamp  \n",
       "0 2024-12-03 11:30:23.803593 2024-12-03 13:07:25.288145  \n",
       "\n",
       "[1 rows x 28 columns]"
      ]
     },
     "execution_count": 28,
     "metadata": {},
     "output_type": "execute_result"
    }
   ],
   "source": [
    "df"
   ]
  },
  {
   "cell_type": "code",
   "execution_count": 25,
   "metadata": {},
   "outputs": [],
   "source": [
    "df.to_excel('temp.xlsx',index=False)"
   ]
  },
  {
   "cell_type": "code",
   "execution_count": null,
   "metadata": {},
   "outputs": [],
   "source": [
    "\n",
    "# Merge for plotting\n",
    "df = df_sales.merge(df_plan, on='month', how='outer')\n",
    "df.columns = ['month','sales_quantity','plan_quantity']\n",
    "\n",
    "df.fillna(0,inplace=True)\n",
    "\n",
    "df['percentage'] = df.apply(\n",
    "\n",
    "    lambda row: 100 if row['plan_quantity'] == 0 else \n",
    "                0 if row['sales_quantity'] == 0 else \n",
    "                (row['sales_quantity'] / row['plan_quantity'] * 100),\n",
    "    axis=1\n",
    ")"
   ]
  },
  {
   "cell_type": "code",
   "execution_count": 1,
   "metadata": {},
   "outputs": [],
   "source": [
    "import pandas as pd\n",
    "import plotly.express as px"
   ]
  },
  {
   "cell_type": "code",
   "execution_count": 2,
   "metadata": {},
   "outputs": [],
   "source": [
    "d1 = dict(Start= '2021-10-10 02:00:00', Finish = '2021-10-10 09:00:00', Task = 'Sleep')\n",
    "d2 = dict(Start= '2021-10-10 09:00:00', Finish = '2021-10-10 09:30:00', Task = 'EAT')\n",
    "d3 = dict(Start= '2021-10-10 09:30:00', Finish = '2021-10-10 12:00:00', Task = 'Study')\n",
    "d4 = dict(Start= '2021-10-10 12:00:00', Finish = '2021-10-10 16:00:00', Task = 'Work')\n",
    "d5 = dict(Start= '2021-10-10 16:00:00', Finish = '2021-10-10 16:50:00', Task = 'EAT')\n",
    "d6 = dict(Start= '2021-10-10 17:00:00', Finish = '2021-10-10 20:00:00', Task = 'Study')\n",
    "d8 = dict(Start= '2021-10-10 20:00:00', Finish = '2021-10-10 20:40:00', Task = 'EAT')\n",
    "d7 = dict(Start= '2021-10-10 21:00:00', Finish = '2021-10-11 05:00:00', Task = 'Sleep')\n",
    "\n",
    "df = pd.DataFrame([d1,d2,d3,d4,d5,d6,d7,d8])"
   ]
  },
  {
   "cell_type": "code",
   "execution_count": 7,
   "metadata": {},
   "outputs": [
    {
     "data": {
      "application/vnd.plotly.v1+json": {
       "config": {
        "plotlyServerURL": "https://plot.ly"
       },
       "data": [
        {
         "alignmentgroup": "True",
         "base": [
          "2021-10-10 02:00:00",
          "2021-10-10 21:00:00"
         ],
         "hovertemplate": "Task=Sleep<br>Start=%{base}<br>Finish=%{x}<br>y=%{y}<extra></extra>",
         "legendgroup": "Sleep",
         "marker": {
          "color": "#636efa",
          "pattern": {
           "shape": ""
          }
         },
         "name": "Sleep",
         "offsetgroup": "Sleep",
         "orientation": "h",
         "showlegend": true,
         "textposition": "auto",
         "type": "bar",
         "x": [
          25200000,
          28800000
         ],
         "xaxis": "x",
         "y": [
          "",
          ""
         ],
         "yaxis": "y"
        },
        {
         "alignmentgroup": "True",
         "base": [
          "2021-10-10 09:00:00",
          "2021-10-10 16:00:00",
          "2021-10-10 20:00:00"
         ],
         "hovertemplate": "Task=EAT<br>Start=%{base}<br>Finish=%{x}<br>y=%{y}<extra></extra>",
         "legendgroup": "EAT",
         "marker": {
          "color": "#EF553B",
          "pattern": {
           "shape": ""
          }
         },
         "name": "EAT",
         "offsetgroup": "EAT",
         "orientation": "h",
         "showlegend": true,
         "textposition": "auto",
         "type": "bar",
         "x": [
          1800000,
          3000000,
          2400000
         ],
         "xaxis": "x",
         "y": [
          "",
          "",
          ""
         ],
         "yaxis": "y"
        },
        {
         "alignmentgroup": "True",
         "base": [
          "2021-10-10 09:30:00",
          "2021-10-10 17:00:00"
         ],
         "hovertemplate": "Task=Study<br>Start=%{base}<br>Finish=%{x}<br>y=%{y}<extra></extra>",
         "legendgroup": "Study",
         "marker": {
          "color": "#00cc96",
          "pattern": {
           "shape": ""
          }
         },
         "name": "Study",
         "offsetgroup": "Study",
         "orientation": "h",
         "showlegend": true,
         "textposition": "auto",
         "type": "bar",
         "x": [
          9000000,
          10800000
         ],
         "xaxis": "x",
         "y": [
          "",
          ""
         ],
         "yaxis": "y"
        },
        {
         "alignmentgroup": "True",
         "base": [
          "2021-10-10 12:00:00"
         ],
         "hovertemplate": "Task=Work<br>Start=%{base}<br>Finish=%{x}<br>y=%{y}<extra></extra>",
         "legendgroup": "Work",
         "marker": {
          "color": "#ab63fa",
          "pattern": {
           "shape": ""
          }
         },
         "name": "Work",
         "offsetgroup": "Work",
         "orientation": "h",
         "showlegend": true,
         "textposition": "auto",
         "type": "bar",
         "x": [
          14400000
         ],
         "xaxis": "x",
         "y": [
          ""
         ],
         "yaxis": "y"
        }
       ],
       "layout": {
        "barmode": "overlay",
        "height": 150,
        "legend": {
         "title": {
          "text": "Task"
         },
         "tracegroupgap": 0
        },
        "margin": {
         "t": 60
        },
        "template": {
         "data": {
          "bar": [
           {
            "error_x": {
             "color": "#2a3f5f"
            },
            "error_y": {
             "color": "#2a3f5f"
            },
            "marker": {
             "line": {
              "color": "#E5ECF6",
              "width": 0.5
             },
             "pattern": {
              "fillmode": "overlay",
              "size": 10,
              "solidity": 0.2
             }
            },
            "type": "bar"
           }
          ],
          "barpolar": [
           {
            "marker": {
             "line": {
              "color": "#E5ECF6",
              "width": 0.5
             },
             "pattern": {
              "fillmode": "overlay",
              "size": 10,
              "solidity": 0.2
             }
            },
            "type": "barpolar"
           }
          ],
          "carpet": [
           {
            "aaxis": {
             "endlinecolor": "#2a3f5f",
             "gridcolor": "white",
             "linecolor": "white",
             "minorgridcolor": "white",
             "startlinecolor": "#2a3f5f"
            },
            "baxis": {
             "endlinecolor": "#2a3f5f",
             "gridcolor": "white",
             "linecolor": "white",
             "minorgridcolor": "white",
             "startlinecolor": "#2a3f5f"
            },
            "type": "carpet"
           }
          ],
          "choropleth": [
           {
            "colorbar": {
             "outlinewidth": 0,
             "ticks": ""
            },
            "type": "choropleth"
           }
          ],
          "contour": [
           {
            "colorbar": {
             "outlinewidth": 0,
             "ticks": ""
            },
            "colorscale": [
             [
              0,
              "#0d0887"
             ],
             [
              0.1111111111111111,
              "#46039f"
             ],
             [
              0.2222222222222222,
              "#7201a8"
             ],
             [
              0.3333333333333333,
              "#9c179e"
             ],
             [
              0.4444444444444444,
              "#bd3786"
             ],
             [
              0.5555555555555556,
              "#d8576b"
             ],
             [
              0.6666666666666666,
              "#ed7953"
             ],
             [
              0.7777777777777778,
              "#fb9f3a"
             ],
             [
              0.8888888888888888,
              "#fdca26"
             ],
             [
              1,
              "#f0f921"
             ]
            ],
            "type": "contour"
           }
          ],
          "contourcarpet": [
           {
            "colorbar": {
             "outlinewidth": 0,
             "ticks": ""
            },
            "type": "contourcarpet"
           }
          ],
          "heatmap": [
           {
            "colorbar": {
             "outlinewidth": 0,
             "ticks": ""
            },
            "colorscale": [
             [
              0,
              "#0d0887"
             ],
             [
              0.1111111111111111,
              "#46039f"
             ],
             [
              0.2222222222222222,
              "#7201a8"
             ],
             [
              0.3333333333333333,
              "#9c179e"
             ],
             [
              0.4444444444444444,
              "#bd3786"
             ],
             [
              0.5555555555555556,
              "#d8576b"
             ],
             [
              0.6666666666666666,
              "#ed7953"
             ],
             [
              0.7777777777777778,
              "#fb9f3a"
             ],
             [
              0.8888888888888888,
              "#fdca26"
             ],
             [
              1,
              "#f0f921"
             ]
            ],
            "type": "heatmap"
           }
          ],
          "heatmapgl": [
           {
            "colorbar": {
             "outlinewidth": 0,
             "ticks": ""
            },
            "colorscale": [
             [
              0,
              "#0d0887"
             ],
             [
              0.1111111111111111,
              "#46039f"
             ],
             [
              0.2222222222222222,
              "#7201a8"
             ],
             [
              0.3333333333333333,
              "#9c179e"
             ],
             [
              0.4444444444444444,
              "#bd3786"
             ],
             [
              0.5555555555555556,
              "#d8576b"
             ],
             [
              0.6666666666666666,
              "#ed7953"
             ],
             [
              0.7777777777777778,
              "#fb9f3a"
             ],
             [
              0.8888888888888888,
              "#fdca26"
             ],
             [
              1,
              "#f0f921"
             ]
            ],
            "type": "heatmapgl"
           }
          ],
          "histogram": [
           {
            "marker": {
             "pattern": {
              "fillmode": "overlay",
              "size": 10,
              "solidity": 0.2
             }
            },
            "type": "histogram"
           }
          ],
          "histogram2d": [
           {
            "colorbar": {
             "outlinewidth": 0,
             "ticks": ""
            },
            "colorscale": [
             [
              0,
              "#0d0887"
             ],
             [
              0.1111111111111111,
              "#46039f"
             ],
             [
              0.2222222222222222,
              "#7201a8"
             ],
             [
              0.3333333333333333,
              "#9c179e"
             ],
             [
              0.4444444444444444,
              "#bd3786"
             ],
             [
              0.5555555555555556,
              "#d8576b"
             ],
             [
              0.6666666666666666,
              "#ed7953"
             ],
             [
              0.7777777777777778,
              "#fb9f3a"
             ],
             [
              0.8888888888888888,
              "#fdca26"
             ],
             [
              1,
              "#f0f921"
             ]
            ],
            "type": "histogram2d"
           }
          ],
          "histogram2dcontour": [
           {
            "colorbar": {
             "outlinewidth": 0,
             "ticks": ""
            },
            "colorscale": [
             [
              0,
              "#0d0887"
             ],
             [
              0.1111111111111111,
              "#46039f"
             ],
             [
              0.2222222222222222,
              "#7201a8"
             ],
             [
              0.3333333333333333,
              "#9c179e"
             ],
             [
              0.4444444444444444,
              "#bd3786"
             ],
             [
              0.5555555555555556,
              "#d8576b"
             ],
             [
              0.6666666666666666,
              "#ed7953"
             ],
             [
              0.7777777777777778,
              "#fb9f3a"
             ],
             [
              0.8888888888888888,
              "#fdca26"
             ],
             [
              1,
              "#f0f921"
             ]
            ],
            "type": "histogram2dcontour"
           }
          ],
          "mesh3d": [
           {
            "colorbar": {
             "outlinewidth": 0,
             "ticks": ""
            },
            "type": "mesh3d"
           }
          ],
          "parcoords": [
           {
            "line": {
             "colorbar": {
              "outlinewidth": 0,
              "ticks": ""
             }
            },
            "type": "parcoords"
           }
          ],
          "pie": [
           {
            "automargin": true,
            "type": "pie"
           }
          ],
          "scatter": [
           {
            "fillpattern": {
             "fillmode": "overlay",
             "size": 10,
             "solidity": 0.2
            },
            "type": "scatter"
           }
          ],
          "scatter3d": [
           {
            "line": {
             "colorbar": {
              "outlinewidth": 0,
              "ticks": ""
             }
            },
            "marker": {
             "colorbar": {
              "outlinewidth": 0,
              "ticks": ""
             }
            },
            "type": "scatter3d"
           }
          ],
          "scattercarpet": [
           {
            "marker": {
             "colorbar": {
              "outlinewidth": 0,
              "ticks": ""
             }
            },
            "type": "scattercarpet"
           }
          ],
          "scattergeo": [
           {
            "marker": {
             "colorbar": {
              "outlinewidth": 0,
              "ticks": ""
             }
            },
            "type": "scattergeo"
           }
          ],
          "scattergl": [
           {
            "marker": {
             "colorbar": {
              "outlinewidth": 0,
              "ticks": ""
             }
            },
            "type": "scattergl"
           }
          ],
          "scattermapbox": [
           {
            "marker": {
             "colorbar": {
              "outlinewidth": 0,
              "ticks": ""
             }
            },
            "type": "scattermapbox"
           }
          ],
          "scatterpolar": [
           {
            "marker": {
             "colorbar": {
              "outlinewidth": 0,
              "ticks": ""
             }
            },
            "type": "scatterpolar"
           }
          ],
          "scatterpolargl": [
           {
            "marker": {
             "colorbar": {
              "outlinewidth": 0,
              "ticks": ""
             }
            },
            "type": "scatterpolargl"
           }
          ],
          "scatterternary": [
           {
            "marker": {
             "colorbar": {
              "outlinewidth": 0,
              "ticks": ""
             }
            },
            "type": "scatterternary"
           }
          ],
          "surface": [
           {
            "colorbar": {
             "outlinewidth": 0,
             "ticks": ""
            },
            "colorscale": [
             [
              0,
              "#0d0887"
             ],
             [
              0.1111111111111111,
              "#46039f"
             ],
             [
              0.2222222222222222,
              "#7201a8"
             ],
             [
              0.3333333333333333,
              "#9c179e"
             ],
             [
              0.4444444444444444,
              "#bd3786"
             ],
             [
              0.5555555555555556,
              "#d8576b"
             ],
             [
              0.6666666666666666,
              "#ed7953"
             ],
             [
              0.7777777777777778,
              "#fb9f3a"
             ],
             [
              0.8888888888888888,
              "#fdca26"
             ],
             [
              1,
              "#f0f921"
             ]
            ],
            "type": "surface"
           }
          ],
          "table": [
           {
            "cells": {
             "fill": {
              "color": "#EBF0F8"
             },
             "line": {
              "color": "white"
             }
            },
            "header": {
             "fill": {
              "color": "#C8D4E3"
             },
             "line": {
              "color": "white"
             }
            },
            "type": "table"
           }
          ]
         },
         "layout": {
          "annotationdefaults": {
           "arrowcolor": "#2a3f5f",
           "arrowhead": 0,
           "arrowwidth": 1
          },
          "autotypenumbers": "strict",
          "coloraxis": {
           "colorbar": {
            "outlinewidth": 0,
            "ticks": ""
           }
          },
          "colorscale": {
           "diverging": [
            [
             0,
             "#8e0152"
            ],
            [
             0.1,
             "#c51b7d"
            ],
            [
             0.2,
             "#de77ae"
            ],
            [
             0.3,
             "#f1b6da"
            ],
            [
             0.4,
             "#fde0ef"
            ],
            [
             0.5,
             "#f7f7f7"
            ],
            [
             0.6,
             "#e6f5d0"
            ],
            [
             0.7,
             "#b8e186"
            ],
            [
             0.8,
             "#7fbc41"
            ],
            [
             0.9,
             "#4d9221"
            ],
            [
             1,
             "#276419"
            ]
           ],
           "sequential": [
            [
             0,
             "#0d0887"
            ],
            [
             0.1111111111111111,
             "#46039f"
            ],
            [
             0.2222222222222222,
             "#7201a8"
            ],
            [
             0.3333333333333333,
             "#9c179e"
            ],
            [
             0.4444444444444444,
             "#bd3786"
            ],
            [
             0.5555555555555556,
             "#d8576b"
            ],
            [
             0.6666666666666666,
             "#ed7953"
            ],
            [
             0.7777777777777778,
             "#fb9f3a"
            ],
            [
             0.8888888888888888,
             "#fdca26"
            ],
            [
             1,
             "#f0f921"
            ]
           ],
           "sequentialminus": [
            [
             0,
             "#0d0887"
            ],
            [
             0.1111111111111111,
             "#46039f"
            ],
            [
             0.2222222222222222,
             "#7201a8"
            ],
            [
             0.3333333333333333,
             "#9c179e"
            ],
            [
             0.4444444444444444,
             "#bd3786"
            ],
            [
             0.5555555555555556,
             "#d8576b"
            ],
            [
             0.6666666666666666,
             "#ed7953"
            ],
            [
             0.7777777777777778,
             "#fb9f3a"
            ],
            [
             0.8888888888888888,
             "#fdca26"
            ],
            [
             1,
             "#f0f921"
            ]
           ]
          },
          "colorway": [
           "#636efa",
           "#EF553B",
           "#00cc96",
           "#ab63fa",
           "#FFA15A",
           "#19d3f3",
           "#FF6692",
           "#B6E880",
           "#FF97FF",
           "#FECB52"
          ],
          "font": {
           "color": "#2a3f5f"
          },
          "geo": {
           "bgcolor": "white",
           "lakecolor": "white",
           "landcolor": "#E5ECF6",
           "showlakes": true,
           "showland": true,
           "subunitcolor": "white"
          },
          "hoverlabel": {
           "align": "left"
          },
          "hovermode": "closest",
          "mapbox": {
           "style": "light"
          },
          "paper_bgcolor": "white",
          "plot_bgcolor": "#E5ECF6",
          "polar": {
           "angularaxis": {
            "gridcolor": "white",
            "linecolor": "white",
            "ticks": ""
           },
           "bgcolor": "#E5ECF6",
           "radialaxis": {
            "gridcolor": "white",
            "linecolor": "white",
            "ticks": ""
           }
          },
          "scene": {
           "xaxis": {
            "backgroundcolor": "#E5ECF6",
            "gridcolor": "white",
            "gridwidth": 2,
            "linecolor": "white",
            "showbackground": true,
            "ticks": "",
            "zerolinecolor": "white"
           },
           "yaxis": {
            "backgroundcolor": "#E5ECF6",
            "gridcolor": "white",
            "gridwidth": 2,
            "linecolor": "white",
            "showbackground": true,
            "ticks": "",
            "zerolinecolor": "white"
           },
           "zaxis": {
            "backgroundcolor": "#E5ECF6",
            "gridcolor": "white",
            "gridwidth": 2,
            "linecolor": "white",
            "showbackground": true,
            "ticks": "",
            "zerolinecolor": "white"
           }
          },
          "shapedefaults": {
           "line": {
            "color": "#2a3f5f"
           }
          },
          "ternary": {
           "aaxis": {
            "gridcolor": "white",
            "linecolor": "white",
            "ticks": ""
           },
           "baxis": {
            "gridcolor": "white",
            "linecolor": "white",
            "ticks": ""
           },
           "bgcolor": "#E5ECF6",
           "caxis": {
            "gridcolor": "white",
            "linecolor": "white",
            "ticks": ""
           }
          },
          "title": {
           "x": 0.05
          },
          "xaxis": {
           "automargin": true,
           "gridcolor": "white",
           "linecolor": "white",
           "ticks": "",
           "title": {
            "standoff": 15
           },
           "zerolinecolor": "white",
           "zerolinewidth": 2
          },
          "yaxis": {
           "automargin": true,
           "gridcolor": "white",
           "linecolor": "white",
           "ticks": "",
           "title": {
            "standoff": 15
           },
           "zerolinecolor": "white",
           "zerolinewidth": 2
          }
         }
        },
        "xaxis": {
         "anchor": "y",
         "domain": [
          0,
          1
         ],
         "type": "date"
        },
        "yaxis": {
         "anchor": "x",
         "domain": [
          0,
          1
         ],
         "title": {
          "text": "y"
         }
        }
       }
      }
     },
     "metadata": {},
     "output_type": "display_data"
    }
   ],
   "source": [
    "gantt = px.timeline(df, x_start='Start', x_end = 'Finish', color = 'Task', height=150, y=['']*df.shape[0]) \n",
    "gantt.show()"
   ]
  },
  {
   "cell_type": "code",
   "execution_count": 1,
   "metadata": {},
   "outputs": [],
   "source": [
    "import pandas as pd\n",
    "import plotly.express as px"
   ]
  },
  {
   "cell_type": "code",
   "execution_count": 7,
   "metadata": {},
   "outputs": [],
   "source": [
    "from utils.query.wh.extract import get_sales_ratio\n",
    "df = get_sales_ratio(2025)"
   ]
  },
  {
   "cell_type": "code",
   "execution_count": 18,
   "metadata": {},
   "outputs": [
    {
     "data": {
      "text/html": [
       "<div>\n",
       "<style scoped>\n",
       "    .dataframe tbody tr th:only-of-type {\n",
       "        vertical-align: middle;\n",
       "    }\n",
       "\n",
       "    .dataframe tbody tr th {\n",
       "        vertical-align: top;\n",
       "    }\n",
       "\n",
       "    .dataframe thead th {\n",
       "        text-align: right;\n",
       "    }\n",
       "</style>\n",
       "<table border=\"1\" class=\"dataframe\">\n",
       "  <thead>\n",
       "    <tr style=\"text-align: right;\">\n",
       "      <th></th>\n",
       "      <th>sales_quantity</th>\n",
       "      <th>factory_code</th>\n",
       "      <th>factory_name</th>\n",
       "      <th>year</th>\n",
       "      <th>month</th>\n",
       "      <th>product_type</th>\n",
       "    </tr>\n",
       "  </thead>\n",
       "  <tbody>\n",
       "    <tr>\n",
       "      <th>0</th>\n",
       "      <td>32.0</td>\n",
       "      <td>30301</td>\n",
       "      <td>凱勝 KAISER 1</td>\n",
       "      <td>2025</td>\n",
       "      <td>3</td>\n",
       "      <td>烤調色PM HAP</td>\n",
       "    </tr>\n",
       "    <tr>\n",
       "      <th>1</th>\n",
       "      <td>210.0</td>\n",
       "      <td>30622</td>\n",
       "      <td>泓一 HONG YI</td>\n",
       "      <td>2025</td>\n",
       "      <td>3</td>\n",
       "      <td>原料溶劑 NL DUNG MOI</td>\n",
       "    </tr>\n",
       "    <tr>\n",
       "      <th>2</th>\n",
       "      <td>1200.0</td>\n",
       "      <td>30992</td>\n",
       "      <td>大顺 ĐẠI THUẬN</td>\n",
       "      <td>2025</td>\n",
       "      <td>3</td>\n",
       "      <td>面漆 BONG</td>\n",
       "    </tr>\n",
       "    <tr>\n",
       "      <th>3</th>\n",
       "      <td>70.0</td>\n",
       "      <td>30070</td>\n",
       "      <td>大皇美 ĐẠI HOÀNG MỸ</td>\n",
       "      <td>2025</td>\n",
       "      <td>4</td>\n",
       "      <td>底漆 LOT</td>\n",
       "    </tr>\n",
       "    <tr>\n",
       "      <th>4</th>\n",
       "      <td>16.0</td>\n",
       "      <td>30227</td>\n",
       "      <td>維成 DUY THÀNH</td>\n",
       "      <td>2025</td>\n",
       "      <td>1</td>\n",
       "      <td>烤調色PM HAP</td>\n",
       "    </tr>\n",
       "    <tr>\n",
       "      <th>...</th>\n",
       "      <td>...</td>\n",
       "      <td>...</td>\n",
       "      <td>...</td>\n",
       "      <td>...</td>\n",
       "      <td>...</td>\n",
       "      <td>...</td>\n",
       "    </tr>\n",
       "    <tr>\n",
       "      <th>2471</th>\n",
       "      <td>32.0</td>\n",
       "      <td>30724</td>\n",
       "      <td>采岩 TSAI YARN</td>\n",
       "      <td>2025</td>\n",
       "      <td>2</td>\n",
       "      <td>面漆 BONG</td>\n",
       "    </tr>\n",
       "    <tr>\n",
       "      <th>2472</th>\n",
       "      <td>90.0</td>\n",
       "      <td>30011</td>\n",
       "      <td>上順 SANG SHUN</td>\n",
       "      <td>2025</td>\n",
       "      <td>7</td>\n",
       "      <td>半成品BAN THANHPHAM</td>\n",
       "    </tr>\n",
       "    <tr>\n",
       "      <th>2473</th>\n",
       "      <td>7440.0</td>\n",
       "      <td>30301</td>\n",
       "      <td>凱勝 KAISER 1</td>\n",
       "      <td>2025</td>\n",
       "      <td>2</td>\n",
       "      <td>補土 BOT TRET</td>\n",
       "    </tr>\n",
       "    <tr>\n",
       "      <th>2474</th>\n",
       "      <td>14700.0</td>\n",
       "      <td>30449</td>\n",
       "      <td>信亞 HSIN YA</td>\n",
       "      <td>2025</td>\n",
       "      <td>3</td>\n",
       "      <td>成品溶劑DUNG MOI TP</td>\n",
       "    </tr>\n",
       "    <tr>\n",
       "      <th>2475</th>\n",
       "      <td>15.0</td>\n",
       "      <td>30178.2</td>\n",
       "      <td>裕昌 YUU CHANG</td>\n",
       "      <td>2025</td>\n",
       "      <td>4</td>\n",
       "      <td>色母SON CAI</td>\n",
       "    </tr>\n",
       "  </tbody>\n",
       "</table>\n",
       "<p>2476 rows × 6 columns</p>\n",
       "</div>"
      ],
      "text/plain": [
       "      sales_quantity factory_code      factory_name  year  month  \\\n",
       "0               32.0        30301       凱勝 KAISER 1  2025      3   \n",
       "1              210.0        30622        泓一 HONG YI  2025      3   \n",
       "2             1200.0        30992      大顺 ĐẠI THUẬN  2025      3   \n",
       "3               70.0        30070  大皇美 ĐẠI HOÀNG MỸ  2025      4   \n",
       "4               16.0        30227      維成 DUY THÀNH  2025      1   \n",
       "...              ...          ...               ...   ...    ...   \n",
       "2471            32.0        30724      采岩 TSAI YARN  2025      2   \n",
       "2472            90.0        30011      上順 SANG SHUN  2025      7   \n",
       "2473          7440.0        30301       凱勝 KAISER 1  2025      2   \n",
       "2474         14700.0        30449        信亞 HSIN YA  2025      3   \n",
       "2475            15.0      30178.2      裕昌 YUU CHANG  2025      4   \n",
       "\n",
       "          product_type  \n",
       "0            烤調色PM HAP  \n",
       "1     原料溶劑 NL DUNG MOI  \n",
       "2              面漆 BONG  \n",
       "3               底漆 LOT  \n",
       "4            烤調色PM HAP  \n",
       "...                ...  \n",
       "2471           面漆 BONG  \n",
       "2472  半成品BAN THANHPHAM  \n",
       "2473       補土 BOT TRET  \n",
       "2474   成品溶劑DUNG MOI TP  \n",
       "2475         色母SON CAI  \n",
       "\n",
       "[2476 rows x 6 columns]"
      ]
     },
     "execution_count": 18,
     "metadata": {},
     "output_type": "execute_result"
    }
   ],
   "source": [
    "df"
   ]
  },
  {
   "cell_type": "code",
   "execution_count": 9,
   "metadata": {},
   "outputs": [],
   "source": [
    "all_factories = df[['factory_code', 'factory_name']].drop_duplicates()\n",
    "all_months = sorted(df['month'].unique())"
   ]
  },
  {
   "cell_type": "code",
   "execution_count": 11,
   "metadata": {},
   "outputs": [],
   "source": [
    "df_thinner = df[df['product_type'].isin(['原料溶劑 NL DUNG MOI','成品溶劑DUNG MOI TP'])]\n",
    "df_paint = df[df['product_type'].isin(['色母SON CAI','木調色PM GO',\n",
    "                                    '烤調色PM HAP','底漆 LOT','面漆 BONG'])]"
   ]
  },
  {
   "cell_type": "code",
   "execution_count": 20,
   "metadata": {},
   "outputs": [],
   "source": [
    "thinner_types = ['原料溶劑 NL DUNG MOI', '成品溶劑DUNG MOI TP']\n",
    "paint_types = ['色母SON CAI', '木調色PM GO', '烤調色PM HAP', '底漆 LOT', '面漆 BONG']\n"
   ]
  },
  {
   "cell_type": "code",
   "execution_count": 21,
   "metadata": {},
   "outputs": [],
   "source": [
    "\n",
    "# Get all combinations of factory and month (to ensure 0 filling)\n",
    "factories_months = df[['factory_code', 'factory_name', 'month']].drop_duplicates()\n"
   ]
  },
  {
   "cell_type": "code",
   "execution_count": null,
   "metadata": {},
   "outputs": [],
   "source": [
    "\n",
    "# ---- DF_THINNER ----\n",
    "df_thinner = (\n",
    "    df[df['product_type'].isin(thinner_types)]\n",
    "    .groupby(['factory_code', 'factory_name', 'month'], as_index=False)['sales_quantity']\n",
    "    .sum()\n",
    ")"
   ]
  },
  {
   "cell_type": "code",
   "execution_count": null,
   "metadata": {},
   "outputs": [],
   "source": [
    "\n",
    "df_thinner = factories_months.merge(df_thinner, \n",
    "                                    on=['factory_code', 'factory_name', 'month'], \n",
    "                                    how='left').fillna({'sales_quantity': 0})"
   ]
  },
  {
   "cell_type": "code",
   "execution_count": 32,
   "metadata": {},
   "outputs": [],
   "source": [
    "\n",
    "# ---- DF_PAINT ----\n",
    "df_paint = (\n",
    "    df[df['product_type'].isin(paint_types)]\n",
    "    .groupby(['factory_code', 'factory_name', 'month'], as_index=False)['sales_quantity']\n",
    "    .sum()\n",
    ")\n",
    "\n",
    "df_paint = factories_months.merge(df_paint, \n",
    "                                  on=['factory_code', 'factory_name', 'month'], \n",
    "                                  how='left').fillna({'sales_quantity': 0})"
   ]
  },
  {
   "cell_type": "code",
   "execution_count": 35,
   "metadata": {},
   "outputs": [],
   "source": [
    "thinner_df = df_thinner.pivot(index=['factory_code','factory_name'],\n",
    "                              columns='month',\n",
    "                              values='sales_quantity')\n",
    "    \n",
    "paint_df = df_paint.pivot(index=['factory_code','factory_name'],\n",
    "                            columns='month',\n",
    "                            values='sales_quantity')\n",
    "ratio_df = paint_df.div(thinner_df.replace(0, np.nan)).fillna(0)"
   ]
  },
  {
   "cell_type": "code",
   "execution_count": 36,
   "metadata": {},
   "outputs": [
    {
     "data": {
      "text/html": [
       "<div>\n",
       "<style scoped>\n",
       "    .dataframe tbody tr th:only-of-type {\n",
       "        vertical-align: middle;\n",
       "    }\n",
       "\n",
       "    .dataframe tbody tr th {\n",
       "        vertical-align: top;\n",
       "    }\n",
       "\n",
       "    .dataframe thead th {\n",
       "        text-align: right;\n",
       "    }\n",
       "</style>\n",
       "<table border=\"1\" class=\"dataframe\">\n",
       "  <thead>\n",
       "    <tr style=\"text-align: right;\">\n",
       "      <th></th>\n",
       "      <th>month</th>\n",
       "      <th>1</th>\n",
       "      <th>2</th>\n",
       "      <th>3</th>\n",
       "      <th>4</th>\n",
       "      <th>5</th>\n",
       "      <th>6</th>\n",
       "      <th>7</th>\n",
       "    </tr>\n",
       "    <tr>\n",
       "      <th>factory_code</th>\n",
       "      <th>factory_name</th>\n",
       "      <th></th>\n",
       "      <th></th>\n",
       "      <th></th>\n",
       "      <th></th>\n",
       "      <th></th>\n",
       "      <th></th>\n",
       "      <th></th>\n",
       "    </tr>\n",
       "  </thead>\n",
       "  <tbody>\n",
       "    <tr>\n",
       "      <th>30003.2</th>\n",
       "      <th>林源 LÂM NGUYÊN</th>\n",
       "      <td>0.0</td>\n",
       "      <td>NaN</td>\n",
       "      <td>NaN</td>\n",
       "      <td>NaN</td>\n",
       "      <td>NaN</td>\n",
       "      <td>NaN</td>\n",
       "      <td>0.0</td>\n",
       "    </tr>\n",
       "    <tr>\n",
       "      <th>30008.4</th>\n",
       "      <th>鴻霖 HỒNG LÂM</th>\n",
       "      <td>NaN</td>\n",
       "      <td>360.0</td>\n",
       "      <td>NaN</td>\n",
       "      <td>NaN</td>\n",
       "      <td>360.0</td>\n",
       "      <td>360.0</td>\n",
       "      <td>NaN</td>\n",
       "    </tr>\n",
       "    <tr>\n",
       "      <th>30011</th>\n",
       "      <th>上順 SANG SHUN</th>\n",
       "      <td>4148.0</td>\n",
       "      <td>9212.0</td>\n",
       "      <td>5596.0</td>\n",
       "      <td>2176.0</td>\n",
       "      <td>5792.0</td>\n",
       "      <td>5988.0</td>\n",
       "      <td>6136.0</td>\n",
       "    </tr>\n",
       "    <tr>\n",
       "      <th>30013</th>\n",
       "      <th>協楊 ASY</th>\n",
       "      <td>9180.0</td>\n",
       "      <td>5790.0</td>\n",
       "      <td>9000.0</td>\n",
       "      <td>8280.0</td>\n",
       "      <td>9900.0</td>\n",
       "      <td>18225.0</td>\n",
       "      <td>11355.0</td>\n",
       "    </tr>\n",
       "    <tr>\n",
       "      <th>30020</th>\n",
       "      <th>楊林 YANG LIN</th>\n",
       "      <td>269.0</td>\n",
       "      <td>90.0</td>\n",
       "      <td>180.0</td>\n",
       "      <td>270.0</td>\n",
       "      <td>269.5</td>\n",
       "      <td>270.0</td>\n",
       "      <td>150.0</td>\n",
       "    </tr>\n",
       "    <tr>\n",
       "      <th>...</th>\n",
       "      <th>...</th>\n",
       "      <td>...</td>\n",
       "      <td>...</td>\n",
       "      <td>...</td>\n",
       "      <td>...</td>\n",
       "      <td>...</td>\n",
       "      <td>...</td>\n",
       "      <td>...</td>\n",
       "    </tr>\n",
       "    <tr>\n",
       "      <th>31329</th>\n",
       "      <th>LEATHER HOUSE VIETNAM</th>\n",
       "      <td>0.0</td>\n",
       "      <td>NaN</td>\n",
       "      <td>0.0</td>\n",
       "      <td>0.0</td>\n",
       "      <td>0.0</td>\n",
       "      <td>0.0</td>\n",
       "      <td>0.0</td>\n",
       "    </tr>\n",
       "    <tr>\n",
       "      <th>31336</th>\n",
       "      <th>TENGDA 騰逹五金</th>\n",
       "      <td>NaN</td>\n",
       "      <td>NaN</td>\n",
       "      <td>NaN</td>\n",
       "      <td>NaN</td>\n",
       "      <td>NaN</td>\n",
       "      <td>30.0</td>\n",
       "      <td>NaN</td>\n",
       "    </tr>\n",
       "    <tr>\n",
       "      <th>31337</th>\n",
       "      <th>麦林 SEVILLE SIGNATURE</th>\n",
       "      <td>NaN</td>\n",
       "      <td>NaN</td>\n",
       "      <td>NaN</td>\n",
       "      <td>NaN</td>\n",
       "      <td>180.0</td>\n",
       "      <td>NaN</td>\n",
       "      <td>NaN</td>\n",
       "    </tr>\n",
       "    <tr>\n",
       "      <th>31342</th>\n",
       "      <th>CƠ KHÍ TUẤN HUY</th>\n",
       "      <td>NaN</td>\n",
       "      <td>NaN</td>\n",
       "      <td>NaN</td>\n",
       "      <td>NaN</td>\n",
       "      <td>NaN</td>\n",
       "      <td>NaN</td>\n",
       "      <td>0.0</td>\n",
       "    </tr>\n",
       "    <tr>\n",
       "      <th>31344</th>\n",
       "      <th>AN HƯNG PHÁT</th>\n",
       "      <td>NaN</td>\n",
       "      <td>NaN</td>\n",
       "      <td>NaN</td>\n",
       "      <td>NaN</td>\n",
       "      <td>NaN</td>\n",
       "      <td>NaN</td>\n",
       "      <td>0.0</td>\n",
       "    </tr>\n",
       "  </tbody>\n",
       "</table>\n",
       "<p>162 rows × 7 columns</p>\n",
       "</div>"
      ],
      "text/plain": [
       "month                                    1       2       3       4       5  \\\n",
       "factory_code factory_name                                                    \n",
       "30003.2      林源 LÂM NGUYÊN             0.0     NaN     NaN     NaN     NaN   \n",
       "30008.4      鴻霖 HỒNG LÂM               NaN   360.0     NaN     NaN   360.0   \n",
       "30011        上順 SANG SHUN           4148.0  9212.0  5596.0  2176.0  5792.0   \n",
       "30013        協楊 ASY                 9180.0  5790.0  9000.0  8280.0  9900.0   \n",
       "30020        楊林 YANG LIN             269.0    90.0   180.0   270.0   269.5   \n",
       "...                                    ...     ...     ...     ...     ...   \n",
       "31329        LEATHER HOUSE VIETNAM     0.0     NaN     0.0     0.0     0.0   \n",
       "31336        TENGDA 騰逹五金               NaN     NaN     NaN     NaN     NaN   \n",
       "31337        麦林 SEVILLE SIGNATURE      NaN     NaN     NaN     NaN   180.0   \n",
       "31342        CƠ KHÍ TUẤN HUY           NaN     NaN     NaN     NaN     NaN   \n",
       "31344        AN HƯNG PHÁT              NaN     NaN     NaN     NaN     NaN   \n",
       "\n",
       "month                                     6        7  \n",
       "factory_code factory_name                             \n",
       "30003.2      林源 LÂM NGUYÊN              NaN      0.0  \n",
       "30008.4      鴻霖 HỒNG LÂM              360.0      NaN  \n",
       "30011        上順 SANG SHUN            5988.0   6136.0  \n",
       "30013        協楊 ASY                 18225.0  11355.0  \n",
       "30020        楊林 YANG LIN              270.0    150.0  \n",
       "...                                     ...      ...  \n",
       "31329        LEATHER HOUSE VIETNAM      0.0      0.0  \n",
       "31336        TENGDA 騰逹五金               30.0      NaN  \n",
       "31337        麦林 SEVILLE SIGNATURE       NaN      NaN  \n",
       "31342        CƠ KHÍ TUẤN HUY            NaN      0.0  \n",
       "31344        AN HƯNG PHÁT               NaN      0.0  \n",
       "\n",
       "[162 rows x 7 columns]"
      ]
     },
     "execution_count": 36,
     "metadata": {},
     "output_type": "execute_result"
    }
   ],
   "source": [
    "thinner_df"
   ]
  }
 ],
 "metadata": {
  "kernelspec": {
   "display_name": ".venv",
   "language": "python",
   "name": "python3"
  },
  "language_info": {
   "codemirror_mode": {
    "name": "ipython",
    "version": 3
   },
   "file_extension": ".py",
   "mimetype": "text/x-python",
   "name": "python",
   "nbconvert_exporter": "python",
   "pygments_lexer": "ipython3",
   "version": "3.12.5"
  }
 },
 "nbformat": 4,
 "nbformat_minor": 2
}
