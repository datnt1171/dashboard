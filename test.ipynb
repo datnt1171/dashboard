{
 "cells": [
  {
   "cell_type": "code",
   "execution_count": 1,
   "metadata": {},
   "outputs": [],
   "source": [
    "import psycopg2\n",
    "import pandas as pd\n",
    "import numpy as np\n",
    "import os\n",
    "from dotenv import load_dotenv\n",
    "#import constants\n",
    "from datetime import date, datetime, timedelta\n",
    "load_dotenv()\n",
    "pd.options.mode.chained_assignment = None\n",
    "\n",
    "from dateutil.relativedelta import relativedelta\n"
   ]
  },
  {
   "cell_type": "code",
   "execution_count": 2,
   "metadata": {},
   "outputs": [],
   "source": [
    "from utils.db import Database"
   ]
  },
  {
   "cell_type": "code",
   "execution_count": 4,
   "metadata": {},
   "outputs": [],
   "source": [
    "Database.initialize(\n",
    "    database=os.getenv('WAREHOUSE_NAME'),\n",
    "    user=os.getenv('WAREHOUSE_USER'),\n",
    "    password=os.getenv('WAREHOUSE_PASSWORD'),\n",
    "    host=os.getenv('WAREHOUSE_HOST'),\n",
    "    port=os.getenv('WAREHOUSE_PORT'),\n",
    "    minconn=1,\n",
    "    maxconn=20\n",
    ")"
   ]
  },
  {
   "cell_type": "code",
   "execution_count": null,
   "metadata": {},
   "outputs": [],
   "source": []
  },
  {
   "cell_type": "code",
   "execution_count": 11,
   "metadata": {},
   "outputs": [],
   "source": [
    "factory_name='大森 TIM BER'"
   ]
  },
  {
   "cell_type": "code",
   "execution_count": 12,
   "metadata": {},
   "outputs": [],
   "source": [
    "selected_year = 2025"
   ]
  },
  {
   "cell_type": "code",
   "execution_count": 13,
   "metadata": {},
   "outputs": [],
   "source": [
    "from utils.query.wh.extract import get_mtd_by_month, get_factory_code"
   ]
  },
  {
   "cell_type": "code",
   "execution_count": 14,
   "metadata": {},
   "outputs": [],
   "source": [
    "factory_code = get_factory_code(factory_name)\n",
    "# Get sales\n",
    "df_sales = get_mtd_by_month(selected_year, 1, 31, factory_code, \"fact_sales\", \"sales_quantity\", \"sales_date\")\n",
    "df_sales.columns = ['month','sales_quantity','sales_quantity_timber']\n",
    "df_sales.drop(columns = ['sales_quantity'], inplace=True)\n"
   ]
  },
  {
   "cell_type": "code",
   "execution_count": 15,
   "metadata": {},
   "outputs": [
    {
     "data": {
      "text/html": [
       "<div>\n",
       "<style scoped>\n",
       "    .dataframe tbody tr th:only-of-type {\n",
       "        vertical-align: middle;\n",
       "    }\n",
       "\n",
       "    .dataframe tbody tr th {\n",
       "        vertical-align: top;\n",
       "    }\n",
       "\n",
       "    .dataframe thead th {\n",
       "        text-align: right;\n",
       "    }\n",
       "</style>\n",
       "<table border=\"1\" class=\"dataframe\">\n",
       "  <thead>\n",
       "    <tr style=\"text-align: right;\">\n",
       "      <th></th>\n",
       "      <th>month</th>\n",
       "      <th>sales_quantity_timber</th>\n",
       "    </tr>\n",
       "  </thead>\n",
       "  <tbody>\n",
       "    <tr>\n",
       "      <th>0</th>\n",
       "      <td>1</td>\n",
       "      <td>25590.0</td>\n",
       "    </tr>\n",
       "  </tbody>\n",
       "</table>\n",
       "</div>"
      ],
      "text/plain": [
       "   month  sales_quantity_timber\n",
       "0      1                25590.0"
      ]
     },
     "execution_count": 15,
     "metadata": {},
     "output_type": "execute_result"
    }
   ],
   "source": [
    "df_sales"
   ]
  },
  {
   "cell_type": "code",
   "execution_count": 16,
   "metadata": {},
   "outputs": [],
   "source": [
    "\n",
    "# Get planned deliveries\n",
    "df_plan  = get_mtd_by_month(selected_year, 1, 31, factory_code, \"fact_order\", \"order_quantity\", \"estimated_delivery_date\")\n",
    "df_plan.columns = ['month','plan_quantity','plan_quantity_timber']\n",
    "df_plan.drop(columns = ['plan_quantity'], inplace=True)\n"
   ]
  },
  {
   "cell_type": "code",
   "execution_count": 17,
   "metadata": {},
   "outputs": [
    {
     "data": {
      "text/html": [
       "<div>\n",
       "<style scoped>\n",
       "    .dataframe tbody tr th:only-of-type {\n",
       "        vertical-align: middle;\n",
       "    }\n",
       "\n",
       "    .dataframe tbody tr th {\n",
       "        vertical-align: top;\n",
       "    }\n",
       "\n",
       "    .dataframe thead th {\n",
       "        text-align: right;\n",
       "    }\n",
       "</style>\n",
       "<table border=\"1\" class=\"dataframe\">\n",
       "  <thead>\n",
       "    <tr style=\"text-align: right;\">\n",
       "      <th></th>\n",
       "      <th>month</th>\n",
       "      <th>plan_quantity_timber</th>\n",
       "    </tr>\n",
       "  </thead>\n",
       "  <tbody>\n",
       "    <tr>\n",
       "      <th>0</th>\n",
       "      <td>1</td>\n",
       "      <td>40697.0</td>\n",
       "    </tr>\n",
       "    <tr>\n",
       "      <th>1</th>\n",
       "      <td>2</td>\n",
       "      <td>33976.0</td>\n",
       "    </tr>\n",
       "    <tr>\n",
       "      <th>2</th>\n",
       "      <td>9</td>\n",
       "      <td>0.0</td>\n",
       "    </tr>\n",
       "  </tbody>\n",
       "</table>\n",
       "</div>"
      ],
      "text/plain": [
       "   month  plan_quantity_timber\n",
       "0      1               40697.0\n",
       "1      2               33976.0\n",
       "2      9                   0.0"
      ]
     },
     "execution_count": 17,
     "metadata": {},
     "output_type": "execute_result"
    }
   ],
   "source": [
    "df_plan"
   ]
  },
  {
   "cell_type": "code",
   "execution_count": 18,
   "metadata": {},
   "outputs": [],
   "source": [
    "conn = Database.get_connection()\n",
    "cur = conn.cursor()"
   ]
  },
  {
   "cell_type": "code",
   "execution_count": 29,
   "metadata": {},
   "outputs": [],
   "source": [
    "cur.execute(\"\"\"DELETE from fact_order where order_code = '2201-240829022-0006'\"\"\")"
   ]
  },
  {
   "cell_type": "code",
   "execution_count": 30,
   "metadata": {},
   "outputs": [],
   "source": [
    "conn.commit()"
   ]
  },
  {
   "cell_type": "code",
   "execution_count": 27,
   "metadata": {},
   "outputs": [],
   "source": [
    "data = cur.fetchall()\n",
    "column_names = [description[0] for description in cur.description]\n",
    "df = pd.DataFrame(data=data, columns=column_names)"
   ]
  },
  {
   "cell_type": "code",
   "execution_count": 28,
   "metadata": {},
   "outputs": [
    {
     "data": {
      "text/html": [
       "<div>\n",
       "<style scoped>\n",
       "    .dataframe tbody tr th:only-of-type {\n",
       "        vertical-align: middle;\n",
       "    }\n",
       "\n",
       "    .dataframe tbody tr th {\n",
       "        vertical-align: top;\n",
       "    }\n",
       "\n",
       "    .dataframe thead th {\n",
       "        text-align: right;\n",
       "    }\n",
       "</style>\n",
       "<table border=\"1\" class=\"dataframe\">\n",
       "  <thead>\n",
       "    <tr style=\"text-align: right;\">\n",
       "      <th></th>\n",
       "      <th>order_date</th>\n",
       "      <th>order_code</th>\n",
       "      <th>ct_date</th>\n",
       "      <th>factory_code</th>\n",
       "      <th>factory_order_code</th>\n",
       "      <th>tax_type</th>\n",
       "      <th>department</th>\n",
       "      <th>salesman</th>\n",
       "      <th>deposit_rate</th>\n",
       "      <th>payment_registration_code</th>\n",
       "      <th>...</th>\n",
       "      <th>package_order_quantity</th>\n",
       "      <th>delivered_package_order_quantity</th>\n",
       "      <th>unit</th>\n",
       "      <th>package_unit</th>\n",
       "      <th>estimated_delivery_date</th>\n",
       "      <th>original_estimated_delivery_date</th>\n",
       "      <th>pre_ct</th>\n",
       "      <th>finish_code</th>\n",
       "      <th>import_timestamp</th>\n",
       "      <th>import_wh_timestamp</th>\n",
       "    </tr>\n",
       "  </thead>\n",
       "  <tbody>\n",
       "    <tr>\n",
       "      <th>0</th>\n",
       "      <td>2024-08-29</td>\n",
       "      <td>2201-240829022-0006</td>\n",
       "      <td>2024-08-29</td>\n",
       "      <td>31095</td>\n",
       "      <td>DHM-24/08-091</td>\n",
       "      <td>Thuế cộng riêng</td>\n",
       "      <td>業務部 NV</td>\n",
       "      <td>陳國勇</td>\n",
       "      <td>0</td>\n",
       "      <td>2004.0</td>\n",
       "      <td>...</td>\n",
       "      <td>1.0</td>\n",
       "      <td>1.0</td>\n",
       "      <td>kg</td>\n",
       "      <td>T</td>\n",
       "      <td>2025-09-04</td>\n",
       "      <td>2024-08-30</td>\n",
       "      <td>2101-220401022-0099</td>\n",
       "      <td>T? ??ng k?t thuc</td>\n",
       "      <td>2024-12-03 11:30:23.803593</td>\n",
       "      <td>2024-12-03 13:07:25.288145</td>\n",
       "    </tr>\n",
       "  </tbody>\n",
       "</table>\n",
       "<p>1 rows × 28 columns</p>\n",
       "</div>"
      ],
      "text/plain": [
       "   order_date           order_code     ct_date factory_code  \\\n",
       "0  2024-08-29  2201-240829022-0006  2024-08-29        31095   \n",
       "\n",
       "  factory_order_code         tax_type department salesman deposit_rate  \\\n",
       "0      DHM-24/08-091  Thuế cộng riêng     業務部 NV      陳國勇            0   \n",
       "\n",
       "  payment_registration_code  ... package_order_quantity  \\\n",
       "0                    2004.0  ...                    1.0   \n",
       "\n",
       "  delivered_package_order_quantity unit package_unit estimated_delivery_date  \\\n",
       "0                              1.0   kg            T              2025-09-04   \n",
       "\n",
       "  original_estimated_delivery_date               pre_ct       finish_code  \\\n",
       "0                       2024-08-30  2101-220401022-0099  T? ??ng k?t thuc   \n",
       "\n",
       "            import_timestamp        import_wh_timestamp  \n",
       "0 2024-12-03 11:30:23.803593 2024-12-03 13:07:25.288145  \n",
       "\n",
       "[1 rows x 28 columns]"
      ]
     },
     "execution_count": 28,
     "metadata": {},
     "output_type": "execute_result"
    }
   ],
   "source": [
    "df"
   ]
  },
  {
   "cell_type": "code",
   "execution_count": 25,
   "metadata": {},
   "outputs": [],
   "source": [
    "df.to_excel('temp.xlsx',index=False)"
   ]
  },
  {
   "cell_type": "code",
   "execution_count": null,
   "metadata": {},
   "outputs": [],
   "source": [
    "\n",
    "# Merge for plotting\n",
    "df = df_sales.merge(df_plan, on='month', how='outer')\n",
    "df.columns = ['month','sales_quantity','plan_quantity']\n",
    "\n",
    "df.fillna(0,inplace=True)\n",
    "\n",
    "df['percentage'] = df.apply(\n",
    "\n",
    "    lambda row: 100 if row['plan_quantity'] == 0 else \n",
    "                0 if row['sales_quantity'] == 0 else \n",
    "                (row['sales_quantity'] / row['plan_quantity'] * 100),\n",
    "    axis=1\n",
    ")"
   ]
  }
 ],
 "metadata": {
  "kernelspec": {
   "display_name": ".venv",
   "language": "python",
   "name": "python3"
  },
  "language_info": {
   "codemirror_mode": {
    "name": "ipython",
    "version": 3
   },
   "file_extension": ".py",
   "mimetype": "text/x-python",
   "name": "python",
   "nbconvert_exporter": "python",
   "pygments_lexer": "ipython3",
   "version": "3.12.5"
  }
 },
 "nbformat": 4,
 "nbformat_minor": 2
}
